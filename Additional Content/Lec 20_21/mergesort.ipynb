{
 "cells": [
  {
   "cell_type": "code",
   "execution_count": 1,
   "metadata": {},
   "outputs": [],
   "source": [
    "def merge(array, left_index, right_index, middle):\n",
    "    # Make copies of both arrays we're trying to merge\n",
    "\n",
    "    # The second parameter is non-inclusive, so we have to increase by 1\n",
    "    left_copy = array[left_index:middle + 1]\n",
    "    right_copy = array[middle+1:right_index+1]\n",
    "\n",
    "    # Initial values for variables that we use to keep\n",
    "    # track of where we are in each array\n",
    "    left_copy_index = 0\n",
    "    right_copy_index = 0\n",
    "    sorted_index = left_index\n",
    "\n",
    "    # Go through both copies until we run out of elements in one\n",
    "    while left_copy_index < len(left_copy) and right_copy_index < len(right_copy):\n",
    "\n",
    "        # If our left_copy has the smaller element, put it in the sorted\n",
    "        # part and then move forward in left_copy (by increasing the pointer)\n",
    "        if left_copy[left_copy_index] <= right_copy[right_copy_index]:\n",
    "            array[sorted_index] = left_copy[left_copy_index]\n",
    "            left_copy_index = left_copy_index + 1\n",
    "        # Opposite from above\n",
    "        else:\n",
    "            array[sorted_index] = right_copy[right_copy_index]\n",
    "            right_copy_index = right_copy_index + 1\n",
    "\n",
    "        # Regardless of where we got our element from\n",
    "        # move forward in the sorted part\n",
    "        sorted_index = sorted_index + 1\n",
    "\n",
    "    # We ran out of elements either in left_copy or right_copy\n",
    "    # so we will go through the remaining elements and add them\n",
    "    while left_copy_index < len(left_copy):\n",
    "        array[sorted_index] = left_copy[left_copy_index]\n",
    "        left_copy_index = left_copy_index + 1\n",
    "        sorted_index = sorted_index + 1\n",
    "\n",
    "    while right_copy_index < len(right_copy):\n",
    "        array[sorted_index] = right_copy[right_copy_index]\n",
    "        right_copy_index = right_copy_index + 1\n",
    "        sorted_index = sorted_index + 1"
   ]
  },
  {
   "cell_type": "code",
   "execution_count": 2,
   "metadata": {},
   "outputs": [],
   "source": [
    "def merge_sort(array, left_index, right_index):\n",
    "    if left_index >= right_index:\n",
    "        return\n",
    "\n",
    "    middle = (left_index + right_index)//2\n",
    "    merge_sort(array, left_index, middle)\n",
    "    merge_sort(array, middle + 1, right_index)\n",
    "    merge(array, left_index, right_index, middle)"
   ]
  },
  {
   "cell_type": "code",
   "execution_count": 3,
   "metadata": {},
   "outputs": [
    {
     "name": "stdout",
     "output_type": "stream",
     "text": [
      "[4, 5, 8, 9, 16, 22, 26, 29, 31, 33, 37, 42, 47, 48, 49]\n"
     ]
    }
   ],
   "source": [
    "array = [33, 42, 9, 37, 8, 47, 5, 29, 49, 31, 4, 48, 16, 22, 26]\n",
    "merge_sort(array, 0, len(array) -1)\n",
    "print(array)"
   ]
  },
  {
   "cell_type": "code",
   "execution_count": null,
   "metadata": {},
   "outputs": [],
   "source": []
  }
 ],
 "metadata": {
  "kernelspec": {
   "display_name": "Python 3",
   "language": "python",
   "name": "python3"
  },
  "language_info": {
   "codemirror_mode": {
    "name": "ipython",
    "version": 3
   },
   "file_extension": ".py",
   "mimetype": "text/x-python",
   "name": "python",
   "nbconvert_exporter": "python",
   "pygments_lexer": "ipython3",
   "version": "3.7.2"
  }
 },
 "nbformat": 4,
 "nbformat_minor": 4
}
