{
 "cells": [
  {
   "cell_type": "markdown",
   "metadata": {},
   "source": [
    "### insertion sort"
   ]
  },
  {
   "cell_type": "code",
   "execution_count": 1,
   "metadata": {},
   "outputs": [],
   "source": [
    "def insertion_sort(unsorted_list):\n",
    "    for index in range(1, len(unsorted_list)):\n",
    "        search_index = index\n",
    "        insert_value = unsorted_list[index]\n",
    "        while search_index > 0 and unsorted_list[search_index-1] > insert_value :\n",
    "            unsorted_list[search_index] = unsorted_list[search_index-1]\n",
    "            search_index -= 1\n",
    "        unsorted_list[search_index] = insert_value"
   ]
  },
  {
   "cell_type": "code",
   "execution_count": 2,
   "metadata": {},
   "outputs": [
    {
     "name": "stdout",
     "output_type": "stream",
     "text": [
      "[10, 11, 12, 1, 2, 3]\n"
     ]
    }
   ],
   "source": [
    "my_list = [10, 11, 12, 1, 2, 3]\n",
    "print(my_list)"
   ]
  },
  {
   "cell_type": "code",
   "execution_count": 3,
   "metadata": {},
   "outputs": [
    {
     "name": "stdout",
     "output_type": "stream",
     "text": [
      "[1, 2, 3, 10, 11, 12]\n"
     ]
    }
   ],
   "source": [
    "insertion_sort(my_list)\n",
    "print(my_list)"
   ]
  },
  {
   "cell_type": "markdown",
   "metadata": {},
   "source": [
    "### Selection sort"
   ]
  },
  {
   "cell_type": "code",
   "execution_count": 5,
   "metadata": {},
   "outputs": [],
   "source": [
    "def selection_sort(unsorted_list):\n",
    "    size_of_list = len(unsorted_list)\n",
    "    for i in range(size_of_list):\n",
    "        for j in range(i+1, size_of_list):\n",
    "            if unsorted_list[j] < unsorted_list[i]:\n",
    "                temp = unsorted_list[i]\n",
    "                unsorted_list[i] = unsorted_list[j]\n",
    "                unsorted_list[j] = temp"
   ]
  },
  {
   "cell_type": "code",
   "execution_count": 6,
   "metadata": {},
   "outputs": [
    {
     "name": "stdout",
     "output_type": "stream",
     "text": [
      "[2, 3, 4, 5, 7, 32, 35, 94]\n"
     ]
    }
   ],
   "source": [
    "a_list = [3, 2, 35, 4, 32, 94, 5, 7]\n",
    "selection_sort(a_list)\n",
    "print(a_list)"
   ]
  },
  {
   "cell_type": "code",
   "execution_count": null,
   "metadata": {},
   "outputs": [],
   "source": []
  }
 ],
 "metadata": {
  "kernelspec": {
   "display_name": "Python 3",
   "language": "python",
   "name": "python3"
  },
  "language_info": {
   "codemirror_mode": {
    "name": "ipython",
    "version": 3
   },
   "file_extension": ".py",
   "mimetype": "text/x-python",
   "name": "python",
   "nbconvert_exporter": "python",
   "pygments_lexer": "ipython3",
   "version": "3.7.2"
  }
 },
 "nbformat": 4,
 "nbformat_minor": 4
}
